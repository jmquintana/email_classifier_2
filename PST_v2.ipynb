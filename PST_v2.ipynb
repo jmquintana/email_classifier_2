{
  "cells": [
    {
      "cell_type": "markdown",
      "metadata": {
        "id": "view-in-github",
        "colab_type": "text"
      },
      "source": [
        "<a href=\"https://colab.research.google.com/github/jmquintana/jmquintana-email_classifier_2/blob/main/PST_v2.ipynb\" target=\"_parent\"><img src=\"https://colab.research.google.com/assets/colab-badge.svg\" alt=\"Open In Colab\"/></a>"
      ]
    },
    {
      "cell_type": "code",
      "execution_count": null,
      "metadata": {
        "id": "zlOXUSD7shgf"
      },
      "outputs": [],
      "source": [
        "# Importamos las librerías que vamos a necesitar\n",
        "import numpy as np\n",
        "import pandas as pd\n",
        "import matplotlib.pyplot as plt\n",
        "import seaborn as sns\n",
        "import glob\n",
        "import os"
      ]
    },
    {
      "cell_type": "code",
      "execution_count": null,
      "metadata": {
        "id": "Bt8I9WrbsjfH",
        "colab": {
          "base_uri": "https://localhost:8080/"
        },
        "outputId": "bf4a155f-98d1-4237-ce98-c1bf1920ffb6"
      },
      "outputs": [
        {
          "output_type": "stream",
          "name": "stdout",
          "text": [
            "Drive already mounted at /content/drive; to attempt to forcibly remount, call drive.mount(\"/content/drive\", force_remount=True).\n"
          ]
        }
      ],
      "source": [
        "# Monto mi Google Drive para cargar el DataSet\n",
        "from google.colab import drive\n",
        "drive.mount('/content/drive')"
      ]
    },
    {
      "cell_type": "code",
      "execution_count": null,
      "metadata": {
        "id": "GkaZnI6OsmNV"
      },
      "outputs": [],
      "source": [
        "# Cargo el DataSet con Pandas como un DataFrame nombrado \"df\"\n",
        "# df = pd.read_excel(\"/content/drive/MyDrive/ColabNotebooks/Gas-2021.xlsx\")\n",
        "# df"
      ]
    },
    {
      "cell_type": "code",
      "source": [
        "path = r\"/content/drive/MyDrive/ColabNotebooks/CSVFiles\" # use your path\n",
        "\n",
        "li = []\n",
        "\n",
        "for filename in os.listdir(path):\n",
        "    file = os.path.join(path , filename)\n",
        "    frame = pd.read_csv(file, index_col=None, header=0, encoding='latin-1')\n",
        "    frame['Folder']=filename[0:-4]\n",
        "    li.append(frame)\n",
        "df = pd.concat(li, axis=0, ignore_index=True)\n",
        "df.columns"
      ],
      "metadata": {
        "colab": {
          "base_uri": "https://localhost:8080/"
        },
        "id": "BYO1zlAesdJF",
        "outputId": "a557a1c6-e9c6-4a17-f1a3-fc47960f6e90"
      },
      "execution_count": null,
      "outputs": [
        {
          "output_type": "execute_result",
          "data": {
            "text/plain": [
              "Index(['Subject', 'Body', 'From: (Name)', 'From: (Address)', 'From: (Type)',\n",
              "       'To: (Name)', 'To: (Address)', 'To: (Type)', 'CC: (Name)',\n",
              "       'CC: (Address)', 'CC: (Type)', 'BCC: (Name)', 'BCC: (Address)',\n",
              "       'BCC: (Type)', 'Billing Information', 'Categories', 'Importance',\n",
              "       'Mileage', 'Sensitivity', 'Folder'],\n",
              "      dtype='object')"
            ]
          },
          "metadata": {},
          "execution_count": 112
        }
      ]
    },
    {
      "cell_type": "code",
      "execution_count": null,
      "metadata": {
        "id": "2NGj8eKO5d60",
        "colab": {
          "base_uri": "https://localhost:8080/",
          "height": 206
        },
        "outputId": "ec32bc3b-5774-4bc7-8a1f-9b0a4f6a9513"
      },
      "outputs": [
        {
          "output_type": "execute_result",
          "data": {
            "text/plain": [
              "  Folder                   From  \\\n",
              "0  NOTAS         GALASSI Adrián   \n",
              "1  NOTAS  Tecpetrol - Contratos   \n",
              "2  NOTAS  Tecpetrol - Contratos   \n",
              "3  NOTAS  Tecpetrol - Contratos   \n",
              "4  NOTAS   PUB:lahera@gmail.com   \n",
              "\n",
              "                                                  To  \\\n",
              "0  MARKOUS Ricardo;MARIN Horacio;PERCZYK Jorge;FE...   \n",
              "1  FERNANDEZ LOBBE Gonzalo;DIVITO Juan Esteban;LA...   \n",
              "2  FERNANDEZ LOBBE Gonzalo;DIVITO Juan Esteban;LA...   \n",
              "3  FERNANDEZ LOBBE Gonzalo;DIVITO Juan Esteban;LA...   \n",
              "4                                QUINTANA Jose Maria   \n",
              "\n",
              "                                             Subject  \\\n",
              "0  Resolución de Ajuste de Pago R46 - Agosto de 2021   \n",
              "1  FW: NOTIFICACIÓN NO-2021-126743691-APN-SSH#MEC...   \n",
              "2  FW: NOTIFICACIÓN RESOL-2021-1289-APN-SE#MEC - ...   \n",
              "3  FW: NOTIFICACIÓN NO-2022-00524984-APN-SSH#MEC ...   \n",
              "4        RE: Borrador Plan Gas 4 - Nov/21 definitiva   \n",
              "\n",
              "                                                Body  \n",
              "0  Estimados:\\r\\n\\r\\n \\r\\n\\r\\nEn el día de hoy he...  \n",
              "1   \\r\\n \\r\\nFrom: PUB:Blas David De Salvo <bdesa...  \n",
              "2   \\r\\n \\r\\nFrom: PUB:Augusto Cesar Fleitas <afl...  \n",
              "3   \\r\\n \\r\\nFrom: PUB:Blas David De Salvo <bdesa...  \n",
              "4  Attention: This email was sent from someone ou...  "
            ],
            "text/html": [
              "\n",
              "  <div id=\"df-3af361fb-a3a2-4eea-904c-877de24998f8\">\n",
              "    <div class=\"colab-df-container\">\n",
              "      <div>\n",
              "<style scoped>\n",
              "    .dataframe tbody tr th:only-of-type {\n",
              "        vertical-align: middle;\n",
              "    }\n",
              "\n",
              "    .dataframe tbody tr th {\n",
              "        vertical-align: top;\n",
              "    }\n",
              "\n",
              "    .dataframe thead th {\n",
              "        text-align: right;\n",
              "    }\n",
              "</style>\n",
              "<table border=\"1\" class=\"dataframe\">\n",
              "  <thead>\n",
              "    <tr style=\"text-align: right;\">\n",
              "      <th></th>\n",
              "      <th>Folder</th>\n",
              "      <th>From</th>\n",
              "      <th>To</th>\n",
              "      <th>Subject</th>\n",
              "      <th>Body</th>\n",
              "    </tr>\n",
              "  </thead>\n",
              "  <tbody>\n",
              "    <tr>\n",
              "      <th>0</th>\n",
              "      <td>NOTAS</td>\n",
              "      <td>GALASSI Adrián</td>\n",
              "      <td>MARKOUS Ricardo;MARIN Horacio;PERCZYK Jorge;FE...</td>\n",
              "      <td>Resolución de Ajuste de Pago R46 - Agosto de 2021</td>\n",
              "      <td>Estimados:\\r\\n\\r\\n \\r\\n\\r\\nEn el día de hoy he...</td>\n",
              "    </tr>\n",
              "    <tr>\n",
              "      <th>1</th>\n",
              "      <td>NOTAS</td>\n",
              "      <td>Tecpetrol - Contratos</td>\n",
              "      <td>FERNANDEZ LOBBE Gonzalo;DIVITO Juan Esteban;LA...</td>\n",
              "      <td>FW: NOTIFICACIÓN NO-2021-126743691-APN-SSH#MEC...</td>\n",
              "      <td>\\r\\n \\r\\nFrom: PUB:Blas David De Salvo &lt;bdesa...</td>\n",
              "    </tr>\n",
              "    <tr>\n",
              "      <th>2</th>\n",
              "      <td>NOTAS</td>\n",
              "      <td>Tecpetrol - Contratos</td>\n",
              "      <td>FERNANDEZ LOBBE Gonzalo;DIVITO Juan Esteban;LA...</td>\n",
              "      <td>FW: NOTIFICACIÓN RESOL-2021-1289-APN-SE#MEC - ...</td>\n",
              "      <td>\\r\\n \\r\\nFrom: PUB:Augusto Cesar Fleitas &lt;afl...</td>\n",
              "    </tr>\n",
              "    <tr>\n",
              "      <th>3</th>\n",
              "      <td>NOTAS</td>\n",
              "      <td>Tecpetrol - Contratos</td>\n",
              "      <td>FERNANDEZ LOBBE Gonzalo;DIVITO Juan Esteban;LA...</td>\n",
              "      <td>FW: NOTIFICACIÓN NO-2022-00524984-APN-SSH#MEC ...</td>\n",
              "      <td>\\r\\n \\r\\nFrom: PUB:Blas David De Salvo &lt;bdesa...</td>\n",
              "    </tr>\n",
              "    <tr>\n",
              "      <th>4</th>\n",
              "      <td>NOTAS</td>\n",
              "      <td>PUB:lahera@gmail.com</td>\n",
              "      <td>QUINTANA Jose Maria</td>\n",
              "      <td>RE: Borrador Plan Gas 4 - Nov/21 definitiva</td>\n",
              "      <td>Attention: This email was sent from someone ou...</td>\n",
              "    </tr>\n",
              "  </tbody>\n",
              "</table>\n",
              "</div>\n",
              "      <button class=\"colab-df-convert\" onclick=\"convertToInteractive('df-3af361fb-a3a2-4eea-904c-877de24998f8')\"\n",
              "              title=\"Convert this dataframe to an interactive table.\"\n",
              "              style=\"display:none;\">\n",
              "        \n",
              "  <svg xmlns=\"http://www.w3.org/2000/svg\" height=\"24px\"viewBox=\"0 0 24 24\"\n",
              "       width=\"24px\">\n",
              "    <path d=\"M0 0h24v24H0V0z\" fill=\"none\"/>\n",
              "    <path d=\"M18.56 5.44l.94 2.06.94-2.06 2.06-.94-2.06-.94-.94-2.06-.94 2.06-2.06.94zm-11 1L8.5 8.5l.94-2.06 2.06-.94-2.06-.94L8.5 2.5l-.94 2.06-2.06.94zm10 10l.94 2.06.94-2.06 2.06-.94-2.06-.94-.94-2.06-.94 2.06-2.06.94z\"/><path d=\"M17.41 7.96l-1.37-1.37c-.4-.4-.92-.59-1.43-.59-.52 0-1.04.2-1.43.59L10.3 9.45l-7.72 7.72c-.78.78-.78 2.05 0 2.83L4 21.41c.39.39.9.59 1.41.59.51 0 1.02-.2 1.41-.59l7.78-7.78 2.81-2.81c.8-.78.8-2.07 0-2.86zM5.41 20L4 18.59l7.72-7.72 1.47 1.35L5.41 20z\"/>\n",
              "  </svg>\n",
              "      </button>\n",
              "      \n",
              "  <style>\n",
              "    .colab-df-container {\n",
              "      display:flex;\n",
              "      flex-wrap:wrap;\n",
              "      gap: 12px;\n",
              "    }\n",
              "\n",
              "    .colab-df-convert {\n",
              "      background-color: #E8F0FE;\n",
              "      border: none;\n",
              "      border-radius: 50%;\n",
              "      cursor: pointer;\n",
              "      display: none;\n",
              "      fill: #1967D2;\n",
              "      height: 32px;\n",
              "      padding: 0 0 0 0;\n",
              "      width: 32px;\n",
              "    }\n",
              "\n",
              "    .colab-df-convert:hover {\n",
              "      background-color: #E2EBFA;\n",
              "      box-shadow: 0px 1px 2px rgba(60, 64, 67, 0.3), 0px 1px 3px 1px rgba(60, 64, 67, 0.15);\n",
              "      fill: #174EA6;\n",
              "    }\n",
              "\n",
              "    [theme=dark] .colab-df-convert {\n",
              "      background-color: #3B4455;\n",
              "      fill: #D2E3FC;\n",
              "    }\n",
              "\n",
              "    [theme=dark] .colab-df-convert:hover {\n",
              "      background-color: #434B5C;\n",
              "      box-shadow: 0px 1px 3px 1px rgba(0, 0, 0, 0.15);\n",
              "      filter: drop-shadow(0px 1px 2px rgba(0, 0, 0, 0.3));\n",
              "      fill: #FFFFFF;\n",
              "    }\n",
              "  </style>\n",
              "\n",
              "      <script>\n",
              "        const buttonEl =\n",
              "          document.querySelector('#df-3af361fb-a3a2-4eea-904c-877de24998f8 button.colab-df-convert');\n",
              "        buttonEl.style.display =\n",
              "          google.colab.kernel.accessAllowed ? 'block' : 'none';\n",
              "\n",
              "        async function convertToInteractive(key) {\n",
              "          const element = document.querySelector('#df-3af361fb-a3a2-4eea-904c-877de24998f8');\n",
              "          const dataTable =\n",
              "            await google.colab.kernel.invokeFunction('convertToInteractive',\n",
              "                                                     [key], {});\n",
              "          if (!dataTable) return;\n",
              "\n",
              "          const docLinkHtml = 'Like what you see? Visit the ' +\n",
              "            '<a target=\"_blank\" href=https://colab.research.google.com/notebooks/data_table.ipynb>data table notebook</a>'\n",
              "            + ' to learn more about interactive tables.';\n",
              "          element.innerHTML = '';\n",
              "          dataTable['output_type'] = 'display_data';\n",
              "          await google.colab.output.renderOutput(dataTable, element);\n",
              "          const docLink = document.createElement('div');\n",
              "          docLink.innerHTML = docLinkHtml;\n",
              "          element.appendChild(docLink);\n",
              "        }\n",
              "      </script>\n",
              "    </div>\n",
              "  </div>\n",
              "  "
            ]
          },
          "metadata": {},
          "execution_count": 115
        }
      ],
      "source": [
        "# Renombro las columnas\n",
        "df.rename(columns = {'From: (Name)':'From', 'From: (Type)':'FromType',  'To: (Name)':'To',  'To: (Type)':'ToType',  'CC: (Name)':'CC',  'CC: (Type)':'CCType'}, inplace = True)\n",
        "df = df[['Folder','From', 'To', 'Subject', 'Body']]\n",
        "df.head()"
      ]
    },
    {
      "cell_type": "code",
      "source": [
        "df.info()"
      ],
      "metadata": {
        "colab": {
          "base_uri": "https://localhost:8080/"
        },
        "id": "6vC1HbEDcueC",
        "outputId": "22043d4e-5566-49fc-9014-e87fef2914c6"
      },
      "execution_count": null,
      "outputs": [
        {
          "output_type": "stream",
          "name": "stdout",
          "text": [
            "<class 'pandas.core.frame.DataFrame'>\n",
            "RangeIndex: 3850 entries, 0 to 3849\n",
            "Data columns (total 5 columns):\n",
            " #   Column   Non-Null Count  Dtype \n",
            "---  ------   --------------  ----- \n",
            " 0   Folder   3850 non-null   object\n",
            " 1   From     3850 non-null   object\n",
            " 2   To       3723 non-null   object\n",
            " 3   Subject  3849 non-null   object\n",
            " 4   Body     3827 non-null   object\n",
            "dtypes: object(5)\n",
            "memory usage: 150.5+ KB\n"
          ]
        }
      ]
    },
    {
      "cell_type": "code",
      "execution_count": null,
      "metadata": {
        "id": "JvccKM6rzOG1",
        "colab": {
          "base_uri": "https://localhost:8080/"
        },
        "outputId": "903c1174-3fe7-4abe-9521-3592ab9b51b9"
      },
      "outputs": [
        {
          "output_type": "execute_result",
          "data": {
            "text/plain": [
              "Index(['SERVICIOS', 'OTROS', 'VENTAS', 'SISTEMAS', 'FACTURACION',\n",
              "       'EXPORTACION', 'PROVEEDORES', 'AREAS', 'INFORMES', 'SOCIOS', 'FINANZAS',\n",
              "       'PROVISIONES', 'NOTAS', 'CREDITO', 'IMPUESTOS', 'CLIENTES', 'ENTES',\n",
              "       'BUDGET', 'AUDITORIA', 'COMPLIANCE'],\n",
              "      dtype='object')"
            ]
          },
          "metadata": {},
          "execution_count": 118
        }
      ],
      "source": [
        "folders = df.Folder.value_counts().index\n",
        "folders"
      ]
    },
    {
      "cell_type": "code",
      "execution_count": null,
      "metadata": {
        "id": "U1GaqkzryjI_",
        "colab": {
          "base_uri": "https://localhost:8080/",
          "height": 344
        },
        "outputId": "b5f369ef-3f13-40f4-9ac0-342cee134d23"
      },
      "outputs": [
        {
          "output_type": "display_data",
          "data": {
            "text/plain": [
              "<Figure size 432x288 with 1 Axes>"
            ],
            "image/png": "[encoded data removed]"
          },
          "metadata": {
            "needs_background": "light"
          }
        }
      ],
      "source": [
        "sns.countplot(data=df, x='Folder', order=folders)\n",
        "plt.xticks(rotation=90)\n",
        "plt.show()"
      ]
    },
    {
      "cell_type": "code",
      "execution_count": null,
      "metadata": {
        "id": "f_u5VYty2rEZ",
        "colab": {
          "base_uri": "https://localhost:8080/"
        },
        "outputId": "0636de6a-57ea-43ed-b231-41fb4dd0e976"
      },
      "outputs": [
        {
          "output_type": "execute_result",
          "data": {
            "text/plain": [
              "Folder       0\n",
              "From         0\n",
              "To         127\n",
              "Subject      1\n",
              "Body        23\n",
              "dtype: int64"
            ]
          },
          "metadata": {},
          "execution_count": 120
        }
      ],
      "source": [
        "df.isna().sum()"
      ]
    },
    {
      "cell_type": "code",
      "execution_count": null,
      "metadata": {
        "id": "WPZOxw8S3CHD",
        "colab": {
          "base_uri": "https://localhost:8080/",
          "height": 81
        },
        "outputId": "118e6ef3-23d1-45df-ce8c-1c657dddd717"
      },
      "outputs": [
        {
          "output_type": "execute_result",
          "data": {
            "text/plain": [
              "           Folder               From                   To Subject  \\\n",
              "2851  FACTURACION  SCHIAVELLI Hernan  QUINTANA Jose Maria     NaN   \n",
              "\n",
              "                                                   Body  \n",
              "2851   \\r\\n\\r\\n \\r\\n\\r\\n \\r\\n\\r\\n\\r\\n\\r\\n \\r\\n\\r\\nHe...  "
            ],
            "text/html": [
              "\n",
              "  <div id=\"df-643b3365-d6f6-4c0a-a4b8-70bced1ee82f\">\n",
              "    <div class=\"colab-df-container\">\n",
              "      <div>\n",
              "<style scoped>\n",
              "    .dataframe tbody tr th:only-of-type {\n",
              "        vertical-align: middle;\n",
              "    }\n",
              "\n",
              "    .dataframe tbody tr th {\n",
              "        vertical-align: top;\n",
              "    }\n",
              "\n",
              "    .dataframe thead th {\n",
              "        text-align: right;\n",
              "    }\n",
              "</style>\n",
              "<table border=\"1\" class=\"dataframe\">\n",
              "  <thead>\n",
              "    <tr style=\"text-align: right;\">\n",
              "      <th></th>\n",
              "      <th>Folder</th>\n",
              "      <th>From</th>\n",
              "      <th>To</th>\n",
              "      <th>Subject</th>\n",
              "      <th>Body</th>\n",
              "    </tr>\n",
              "  </thead>\n",
              "  <tbody>\n",
              "    <tr>\n",
              "      <th>2851</th>\n",
              "      <td>FACTURACION</td>\n",
              "      <td>SCHIAVELLI Hernan</td>\n",
              "      <td>QUINTANA Jose Maria</td>\n",
              "      <td>NaN</td>\n",
              "      <td>\\r\\n\\r\\n \\r\\n\\r\\n \\r\\n\\r\\n\\r\\n\\r\\n \\r\\n\\r\\nHe...</td>\n",
              "    </tr>\n",
              "  </tbody>\n",
              "</table>\n",
              "</div>\n",
              "      <button class=\"colab-df-convert\" onclick=\"convertToInteractive('df-643b3365-d6f6-4c0a-a4b8-70bced1ee82f')\"\n",
              "              title=\"Convert this dataframe to an interactive table.\"\n",
              "              style=\"display:none;\">\n",
              "        \n",
              "  <svg xmlns=\"http://www.w3.org/2000/svg\" height=\"24px\"viewBox=\"0 0 24 24\"\n",
              "       width=\"24px\">\n",
              "    <path d=\"M0 0h24v24H0V0z\" fill=\"none\"/>\n",
              "    <path d=\"M18.56 5.44l.94 2.06.94-2.06 2.06-.94-2.06-.94-.94-2.06-.94 2.06-2.06.94zm-11 1L8.5 8.5l.94-2.06 2.06-.94-2.06-.94L8.5 2.5l-.94 2.06-2.06.94zm10 10l.94 2.06.94-2.06 2.06-.94-2.06-.94-.94-2.06-.94 2.06-2.06.94z\"/><path d=\"M17.41 7.96l-1.37-1.37c-.4-.4-.92-.59-1.43-.59-.52 0-1.04.2-1.43.59L10.3 9.45l-7.72 7.72c-.78.78-.78 2.05 0 2.83L4 21.41c.39.39.9.59 1.41.59.51 0 1.02-.2 1.41-.59l7.78-7.78 2.81-2.81c.8-.78.8-2.07 0-2.86zM5.41 20L4 18.59l7.72-7.72 1.47 1.35L5.41 20z\"/>\n",
              "  </svg>\n",
              "      </button>\n",
              "      \n",
              "  <style>\n",
              "    .colab-df-container {\n",
              "      display:flex;\n",
              "      flex-wrap:wrap;\n",
              "      gap: 12px;\n",
              "    }\n",
              "\n",
              "    .colab-df-convert {\n",
              "      background-color: #E8F0FE;\n",
              "      border: none;\n",
              "      border-radius: 50%;\n",
              "      cursor: pointer;\n",
              "      display: none;\n",
              "      fill: #1967D2;\n",
              "      height: 32px;\n",
              "      padding: 0 0 0 0;\n",
              "      width: 32px;\n",
              "    }\n",
              "\n",
              "    .colab-df-convert:hover {\n",
              "      background-color: #E2EBFA;\n",
              "      box-shadow: 0px 1px 2px rgba(60, 64, 67, 0.3), 0px 1px 3px 1px rgba(60, 64, 67, 0.15);\n",
              "      fill: #174EA6;\n",
              "    }\n",
              "\n",
              "    [theme=dark] .colab-df-convert {\n",
              "      background-color: #3B4455;\n",
              "      fill: #D2E3FC;\n",
              "    }\n",
              "\n",
              "    [theme=dark] .colab-df-convert:hover {\n",
              "      background-color: #434B5C;\n",
              "      box-shadow: 0px 1px 3px 1px rgba(0, 0, 0, 0.15);\n",
              "      filter: drop-shadow(0px 1px 2px rgba(0, 0, 0, 0.3));\n",
              "      fill: #FFFFFF;\n",
              "    }\n",
              "  </style>\n",
              "\n",
              "      <script>\n",
              "        const buttonEl =\n",
              "          document.querySelector('#df-643b3365-d6f6-4c0a-a4b8-70bced1ee82f button.colab-df-convert');\n",
              "        buttonEl.style.display =\n",
              "          google.colab.kernel.accessAllowed ? 'block' : 'none';\n",
              "\n",
              "        async function convertToInteractive(key) {\n",
              "          const element = document.querySelector('#df-643b3365-d6f6-4c0a-a4b8-70bced1ee82f');\n",
              "          const dataTable =\n",
              "            await google.colab.kernel.invokeFunction('convertToInteractive',\n",
              "                                                     [key], {});\n",
              "          if (!dataTable) return;\n",
              "\n",
              "          const docLinkHtml = 'Like what you see? Visit the ' +\n",
              "            '<a target=\"_blank\" href=https://colab.research.google.com/notebooks/data_table.ipynb>data table notebook</a>'\n",
              "            + ' to learn more about interactive tables.';\n",
              "          element.innerHTML = '';\n",
              "          dataTable['output_type'] = 'display_data';\n",
              "          await google.colab.output.renderOutput(dataTable, element);\n",
              "          const docLink = document.createElement('div');\n",
              "          docLink.innerHTML = docLinkHtml;\n",
              "          element.appendChild(docLink);\n",
              "        }\n",
              "      </script>\n",
              "    </div>\n",
              "  </div>\n",
              "  "
            ]
          },
          "metadata": {},
          "execution_count": 121
        }
      ],
      "source": [
        "df[df.isna().Subject]"
      ]
    },
    {
      "cell_type": "code",
      "execution_count": null,
      "metadata": {
        "id": "W0Hk_8t37QGr"
      },
      "outputs": [],
      "source": [
        "mask = df.groupby('From').count()>5"
      ]
    },
    {
      "cell_type": "code",
      "execution_count": null,
      "metadata": {
        "id": "szy3a9Ss7xl5"
      },
      "outputs": [],
      "source": [
        "df2 = df.groupby('From').count()"
      ]
    },
    {
      "cell_type": "code",
      "execution_count": null,
      "metadata": {
        "id": "q7L1QA7W8HD-"
      },
      "outputs": [],
      "source": [
        "df2 = df2[mask.Folder]"
      ]
    },
    {
      "cell_type": "code",
      "execution_count": null,
      "metadata": {
        "id": "yzKKQT9E80ue"
      },
      "outputs": [],
      "source": [
        "df2 = df2.sort_values(by='Folder', ascending=False)"
      ]
    },
    {
      "cell_type": "code",
      "execution_count": null,
      "metadata": {
        "id": "uMkFCklX8cJX"
      },
      "outputs": [],
      "source": [
        "from_filtrado = df2.index"
      ]
    },
    {
      "cell_type": "code",
      "execution_count": null,
      "metadata": {
        "id": "uuJNPAuoADeI"
      },
      "outputs": [],
      "source": [
        "df = df[~df.From.isna()]"
      ]
    },
    {
      "cell_type": "code",
      "execution_count": null,
      "metadata": {
        "id": "PnC0GYY45BEY",
        "colab": {
          "base_uri": "https://localhost:8080/",
          "height": 344
        },
        "outputId": "a15aac92-73b8-42aa-b9ea-9e6856399a14"
      },
      "outputs": [
        {
          "output_type": "display_data",
          "data": {
            "text/plain": [
              "<Figure size 432x288 with 1 Axes>"
            ],
            "image/png": "[encoded data removed]"
          },
          "metadata": {
            "needs_background": "light"
          }
        }
      ],
      "source": [
        "sns.countplot(data=df[df.From.str.contains(\"SCH\")], x='Folder', order=folders)\n",
        "plt.xticks(rotation=90)\n",
        "plt.show()"
      ]
    },
    {
      "cell_type": "code",
      "source": [
        "df.columns"
      ],
      "metadata": {
        "colab": {
          "base_uri": "https://localhost:8080/"
        },
        "id": "mrCBmiv374JS",
        "outputId": "9cd0890c-75aa-4651-9164-43ff27b7723f"
      },
      "execution_count": null,
      "outputs": [
        {
          "output_type": "execute_result",
          "data": {
            "text/plain": [
              "Index(['Folder', 'From', 'To', 'Subject', 'Body'], dtype='object')"
            ]
          },
          "metadata": {},
          "execution_count": 129
        }
      ]
    },
    {
      "cell_type": "code",
      "execution_count": null,
      "metadata": {
        "id": "n57gYHD1xNCh",
        "colab": {
          "base_uri": "https://localhost:8080/",
          "height": 641
        },
        "outputId": "c2690f99-112d-488f-c357-1ddad0ad787d"
      },
      "outputs": [
        {
          "output_type": "execute_result",
          "data": {
            "text/plain": [
              "                       From  \\\n",
              "0            GALASSI Adrián   \n",
              "1     Tecpetrol - Contratos   \n",
              "2     Tecpetrol - Contratos   \n",
              "3     Tecpetrol - Contratos   \n",
              "4      PUB:lahera@gmail.com   \n",
              "...                     ...   \n",
              "3845         FERNANDEZ Odín   \n",
              "3846           JEREZ Karina   \n",
              "3847       CARPANO Patricia   \n",
              "3848       CARPANO Patricia   \n",
              "3849       CARPANO Patricia   \n",
              "\n",
              "                                                     To  \\\n",
              "0     MARKOUS Ricardo;MARIN Horacio;PERCZYK Jorge;FE...   \n",
              "1     FERNANDEZ LOBBE Gonzalo;DIVITO Juan Esteban;LA...   \n",
              "2     FERNANDEZ LOBBE Gonzalo;DIVITO Juan Esteban;LA...   \n",
              "3     FERNANDEZ LOBBE Gonzalo;DIVITO Juan Esteban;LA...   \n",
              "4                                   QUINTANA Jose Maria   \n",
              "...                                                 ...   \n",
              "3845  BLASCO Gustavo Angel;MARIN Horacio;PERCZYK Jor...   \n",
              "3846             SEÑORAN Federico;SANTIN Florencia Dana   \n",
              "3847                                QUINTANA Jose Maria   \n",
              "3848                                QUINTANA Jose Maria   \n",
              "3849                                QUINTANA Jose Maria   \n",
              "\n",
              "                                                Subject  \\\n",
              "0     Resolución de Ajuste de Pago R46 - Agosto de 2021   \n",
              "1     FW: NOTIFICACIÓN NO-2021-126743691-APN-SSH#MEC...   \n",
              "2     FW: NOTIFICACIÓN RESOL-2021-1289-APN-SE#MEC - ...   \n",
              "3     FW: NOTIFICACIÓN NO-2022-00524984-APN-SSH#MEC ...   \n",
              "4           RE: Borrador Plan Gas 4 - Nov/21 definitiva   \n",
              "...                                                 ...   \n",
              "3845                 Resumen Operativo Diario Aguaragüe   \n",
              "3846                    RE: Cierre stock crudo julio/22   \n",
              "3847                             RE: SESCO - Julio 2022   \n",
              "3848                             RE: SESCO - Julio 2022   \n",
              "3849                             RE: SESCO - Julio 2022   \n",
              "\n",
              "                                                   Body Folder  \\\n",
              "0     Estimados:\\r\\n\\r\\n \\r\\n\\r\\nEn el día de hoy he...  NOTAS   \n",
              "1      \\r\\n \\r\\nFrom: PUB:Blas David De Salvo <bdesa...  NOTAS   \n",
              "2      \\r\\n \\r\\nFrom: PUB:Augusto Cesar Fleitas <afl...  NOTAS   \n",
              "3      \\r\\n \\r\\nFrom: PUB:Blas David De Salvo <bdesa...  NOTAS   \n",
              "4     Attention: This email was sent from someone ou...  NOTAS   \n",
              "...                                                 ...    ...   \n",
              "3845  \\r\\n\\r\\n \\r\\n\\r\\nSaludos.\\r\\n\\r\\nOdin Fernánde...  AREAS   \n",
              "3846  Se adjunta el definitivo de FP, con el agregad...  AREAS   \n",
              "3847  De nada y es no convencional.\\r\\n\\r\\n \\r\\n\\r\\n...  AREAS   \n",
              "3848  Hola José buen día, en julio tenemos producció...  AREAS   \n",
              "3849  De nada!\\r\\n\\r\\n \\r\\n\\r\\nFrom: QUINTANA Jose M...  AREAS   \n",
              "\n",
              "                                                   Mail  \n",
              "0     Resolución de Ajuste de Pago R46 - Agosto de 2...  \n",
              "1     FW: NOTIFICACIÓN NO-2021-126743691-APN-SSH#MEC...  \n",
              "2     FW: NOTIFICACIÓN RESOL-2021-1289-APN-SE#MEC - ...  \n",
              "3     FW: NOTIFICACIÓN NO-2022-00524984-APN-SSH#MEC ...  \n",
              "4     RE: Borrador Plan Gas 4 - Nov/21 definitiva At...  \n",
              "...                                                 ...  \n",
              "3845  Resumen Operativo Diario Aguaragüe \\r\\n\\r\\n \\r...  \n",
              "3846  RE: Cierre stock crudo julio/22 Se adjunta el ...  \n",
              "3847  RE: SESCO - Julio 2022 De nada y es no convenc...  \n",
              "3848  RE: SESCO - Julio 2022 Hola José buen día, en ...  \n",
              "3849  RE: SESCO - Julio 2022 De nada!\\r\\n\\r\\n \\r\\n\\r...  \n",
              "\n",
              "[3850 rows x 6 columns]"
            ],
            "text/html": [
              "\n",
              "  <div id=\"df-841805aa-3a83-42d3-a97b-367155c115d1\">\n",
              "    <div class=\"colab-df-container\">\n",
              "      <div>\n",
              "<style scoped>\n",
              "    .dataframe tbody tr th:only-of-type {\n",
              "        vertical-align: middle;\n",
              "    }\n",
              "\n",
              "    .dataframe tbody tr th {\n",
              "        vertical-align: top;\n",
              "    }\n",
              "\n",
              "    .dataframe thead th {\n",
              "        text-align: right;\n",
              "    }\n",
              "</style>\n",
              "<table border=\"1\" class=\"dataframe\">\n",
              "  <thead>\n",
              "    <tr style=\"text-align: right;\">\n",
              "      <th></th>\n",
              "      <th>From</th>\n",
              "      <th>To</th>\n",
              "      <th>Subject</th>\n",
              "      <th>Body</th>\n",
              "      <th>Folder</th>\n",
              "      <th>Mail</th>\n",
              "    </tr>\n",
              "  </thead>\n",
              "  <tbody>\n",
              "    <tr>\n",
              "      <th>0</th>\n",
              "      <td>GALASSI Adrián</td>\n",
              "      <td>MARKOUS Ricardo;MARIN Horacio;PERCZYK Jorge;FE...</td>\n",
              "      <td>Resolución de Ajuste de Pago R46 - Agosto de 2021</td>\n",
              "      <td>Estimados:\\r\\n\\r\\n \\r\\n\\r\\nEn el día de hoy he...</td>\n",
              "      <td>NOTAS</td>\n",
              "      <td>Resolución de Ajuste de Pago R46 - Agosto de 2...</td>\n",
              "    </tr>\n",
              "    <tr>\n",
              "      <th>1</th>\n",
              "      <td>Tecpetrol - Contratos</td>\n",
              "      <td>FERNANDEZ LOBBE Gonzalo;DIVITO Juan Esteban;LA...</td>\n",
              "      <td>FW: NOTIFICACIÓN NO-2021-126743691-APN-SSH#MEC...</td>\n",
              "      <td>\\r\\n \\r\\nFrom: PUB:Blas David De Salvo &lt;bdesa...</td>\n",
              "      <td>NOTAS</td>\n",
              "      <td>FW: NOTIFICACIÓN NO-2021-126743691-APN-SSH#MEC...</td>\n",
              "    </tr>\n",
              "    <tr>\n",
              "      <th>2</th>\n",
              "      <td>Tecpetrol - Contratos</td>\n",
              "      <td>FERNANDEZ LOBBE Gonzalo;DIVITO Juan Esteban;LA...</td>\n",
              "      <td>FW: NOTIFICACIÓN RESOL-2021-1289-APN-SE#MEC - ...</td>\n",
              "      <td>\\r\\n \\r\\nFrom: PUB:Augusto Cesar Fleitas &lt;afl...</td>\n",
              "      <td>NOTAS</td>\n",
              "      <td>FW: NOTIFICACIÓN RESOL-2021-1289-APN-SE#MEC - ...</td>\n",
              "    </tr>\n",
              "    <tr>\n",
              "      <th>3</th>\n",
              "      <td>Tecpetrol - Contratos</td>\n",
              "      <td>FERNANDEZ LOBBE Gonzalo;DIVITO Juan Esteban;LA...</td>\n",
              "      <td>FW: NOTIFICACIÓN NO-2022-00524984-APN-SSH#MEC ...</td>\n",
              "      <td>\\r\\n \\r\\nFrom: PUB:Blas David De Salvo &lt;bdesa...</td>\n",
              "      <td>NOTAS</td>\n",
              "      <td>FW: NOTIFICACIÓN NO-2022-00524984-APN-SSH#MEC ...</td>\n",
              "    </tr>\n",
              "    <tr>\n",
              "      <th>4</th>\n",
              "      <td>PUB:lahera@gmail.com</td>\n",
              "      <td>QUINTANA Jose Maria</td>\n",
              "      <td>RE: Borrador Plan Gas 4 - Nov/21 definitiva</td>\n",
              "      <td>Attention: This email was sent from someone ou...</td>\n",
              "      <td>NOTAS</td>\n",
              "      <td>RE: Borrador Plan Gas 4 - Nov/21 definitiva At...</td>\n",
              "    </tr>\n",
              "    <tr>\n",
              "      <th>...</th>\n",
              "      <td>...</td>\n",
              "      <td>...</td>\n",
              "      <td>...</td>\n",
              "      <td>...</td>\n",
              "      <td>...</td>\n",
              "      <td>...</td>\n",
              "    </tr>\n",
              "    <tr>\n",
              "      <th>3845</th>\n",
              "      <td>FERNANDEZ Odín</td>\n",
              "      <td>BLASCO Gustavo Angel;MARIN Horacio;PERCZYK Jor...</td>\n",
              "      <td>Resumen Operativo Diario Aguaragüe</td>\n",
              "      <td>\\r\\n\\r\\n \\r\\n\\r\\nSaludos.\\r\\n\\r\\nOdin Fernánde...</td>\n",
              "      <td>AREAS</td>\n",
              "      <td>Resumen Operativo Diario Aguaragüe \\r\\n\\r\\n \\r...</td>\n",
              "    </tr>\n",
              "    <tr>\n",
              "      <th>3846</th>\n",
              "      <td>JEREZ Karina</td>\n",
              "      <td>SEÑORAN Federico;SANTIN Florencia Dana</td>\n",
              "      <td>RE: Cierre stock crudo julio/22</td>\n",
              "      <td>Se adjunta el definitivo de FP, con el agregad...</td>\n",
              "      <td>AREAS</td>\n",
              "      <td>RE: Cierre stock crudo julio/22 Se adjunta el ...</td>\n",
              "    </tr>\n",
              "    <tr>\n",
              "      <th>3847</th>\n",
              "      <td>CARPANO Patricia</td>\n",
              "      <td>QUINTANA Jose Maria</td>\n",
              "      <td>RE: SESCO - Julio 2022</td>\n",
              "      <td>De nada y es no convencional.\\r\\n\\r\\n \\r\\n\\r\\n...</td>\n",
              "      <td>AREAS</td>\n",
              "      <td>RE: SESCO - Julio 2022 De nada y es no convenc...</td>\n",
              "    </tr>\n",
              "    <tr>\n",
              "      <th>3848</th>\n",
              "      <td>CARPANO Patricia</td>\n",
              "      <td>QUINTANA Jose Maria</td>\n",
              "      <td>RE: SESCO - Julio 2022</td>\n",
              "      <td>Hola José buen día, en julio tenemos producció...</td>\n",
              "      <td>AREAS</td>\n",
              "      <td>RE: SESCO - Julio 2022 Hola José buen día, en ...</td>\n",
              "    </tr>\n",
              "    <tr>\n",
              "      <th>3849</th>\n",
              "      <td>CARPANO Patricia</td>\n",
              "      <td>QUINTANA Jose Maria</td>\n",
              "      <td>RE: SESCO - Julio 2022</td>\n",
              "      <td>De nada!\\r\\n\\r\\n \\r\\n\\r\\nFrom: QUINTANA Jose M...</td>\n",
              "      <td>AREAS</td>\n",
              "      <td>RE: SESCO - Julio 2022 De nada!\\r\\n\\r\\n \\r\\n\\r...</td>\n",
              "    </tr>\n",
              "  </tbody>\n",
              "</table>\n",
              "<p>3850 rows × 6 columns</p>\n",
              "</div>\n",
              "      <button class=\"colab-df-convert\" onclick=\"convertToInteractive('df-841805aa-3a83-42d3-a97b-367155c115d1')\"\n",
              "              title=\"Convert this dataframe to an interactive table.\"\n",
              "              style=\"display:none;\">\n",
              "        \n",
              "  <svg xmlns=\"http://www.w3.org/2000/svg\" height=\"24px\"viewBox=\"0 0 24 24\"\n",
              "       width=\"24px\">\n",
              "    <path d=\"M0 0h24v24H0V0z\" fill=\"none\"/>\n",
              "    <path d=\"M18.56 5.44l.94 2.06.94-2.06 2.06-.94-2.06-.94-.94-2.06-.94 2.06-2.06.94zm-11 1L8.5 8.5l.94-2.06 2.06-.94-2.06-.94L8.5 2.5l-.94 2.06-2.06.94zm10 10l.94 2.06.94-2.06 2.06-.94-2.06-.94-.94-2.06-.94 2.06-2.06.94z\"/><path d=\"M17.41 7.96l-1.37-1.37c-.4-.4-.92-.59-1.43-.59-.52 0-1.04.2-1.43.59L10.3 9.45l-7.72 7.72c-.78.78-.78 2.05 0 2.83L4 21.41c.39.39.9.59 1.41.59.51 0 1.02-.2 1.41-.59l7.78-7.78 2.81-2.81c.8-.78.8-2.07 0-2.86zM5.41 20L4 18.59l7.72-7.72 1.47 1.35L5.41 20z\"/>\n",
              "  </svg>\n",
              "      </button>\n",
              "      \n",
              "  <style>\n",
              "    .colab-df-container {\n",
              "      display:flex;\n",
              "      flex-wrap:wrap;\n",
              "      gap: 12px;\n",
              "    }\n",
              "\n",
              "    .colab-df-convert {\n",
              "      background-color: #E8F0FE;\n",
              "      border: none;\n",
              "      border-radius: 50%;\n",
              "      cursor: pointer;\n",
              "      display: none;\n",
              "      fill: #1967D2;\n",
              "      height: 32px;\n",
              "      padding: 0 0 0 0;\n",
              "      width: 32px;\n",
              "    }\n",
              "\n",
              "    .colab-df-convert:hover {\n",
              "      background-color: #E2EBFA;\n",
              "      box-shadow: 0px 1px 2px rgba(60, 64, 67, 0.3), 0px 1px 3px 1px rgba(60, 64, 67, 0.15);\n",
              "      fill: #174EA6;\n",
              "    }\n",
              "\n",
              "    [theme=dark] .colab-df-convert {\n",
              "      background-color: #3B4455;\n",
              "      fill: #D2E3FC;\n",
              "    }\n",
              "\n",
              "    [theme=dark] .colab-df-convert:hover {\n",
              "      background-color: #434B5C;\n",
              "      box-shadow: 0px 1px 3px 1px rgba(0, 0, 0, 0.15);\n",
              "      filter: drop-shadow(0px 1px 2px rgba(0, 0, 0, 0.3));\n",
              "      fill: #FFFFFF;\n",
              "    }\n",
              "  </style>\n",
              "\n",
              "      <script>\n",
              "        const buttonEl =\n",
              "          document.querySelector('#df-841805aa-3a83-42d3-a97b-367155c115d1 button.colab-df-convert');\n",
              "        buttonEl.style.display =\n",
              "          google.colab.kernel.accessAllowed ? 'block' : 'none';\n",
              "\n",
              "        async function convertToInteractive(key) {\n",
              "          const element = document.querySelector('#df-841805aa-3a83-42d3-a97b-367155c115d1');\n",
              "          const dataTable =\n",
              "            await google.colab.kernel.invokeFunction('convertToInteractive',\n",
              "                                                     [key], {});\n",
              "          if (!dataTable) return;\n",
              "\n",
              "          const docLinkHtml = 'Like what you see? Visit the ' +\n",
              "            '<a target=\"_blank\" href=https://colab.research.google.com/notebooks/data_table.ipynb>data table notebook</a>'\n",
              "            + ' to learn more about interactive tables.';\n",
              "          element.innerHTML = '';\n",
              "          dataTable['output_type'] = 'display_data';\n",
              "          await google.colab.output.renderOutput(dataTable, element);\n",
              "          const docLink = document.createElement('div');\n",
              "          docLink.innerHTML = docLinkHtml;\n",
              "          element.appendChild(docLink);\n",
              "        }\n",
              "      </script>\n",
              "    </div>\n",
              "  </div>\n",
              "  "
            ]
          },
          "metadata": {},
          "execution_count": 130
        }
      ],
      "source": [
        "data = df.copy()\n",
        "data['Mail'] = data['Subject'].str.cat(data['Body'],sep=\" \")\n",
        "data = data[['From', 'To', 'Subject', 'Body', 'Folder', 'Mail']]\n",
        "# data = data[data.Folder.isin(folders[:10])]\n",
        "data"
      ]
    },
    {
      "cell_type": "code",
      "execution_count": null,
      "metadata": {
        "id": "yqaZlib5zb3n"
      },
      "outputs": [],
      "source": [
        "data.isna().sum()\n",
        "data = data.dropna()"
      ]
    },
    {
      "cell_type": "code",
      "execution_count": null,
      "metadata": {
        "id": "E1zP4LyIy-gc"
      },
      "outputs": [],
      "source": [
        "# X = data.drop(['Folder'], axis=1)\n",
        "X = data.Subject\n",
        "y = data.Folder"
      ]
    },
    {
      "cell_type": "code",
      "execution_count": null,
      "metadata": {
        "id": "Uk584dkaUAUq"
      },
      "outputs": [],
      "source": [
        "import pandas as pd\n",
        "import numpy as np\n",
        "from scipy.stats import randint\n",
        "import seaborn as sns # used for plot interactive graph. \n",
        "import matplotlib.pyplot as plt\n",
        "import seaborn as sns\n",
        "from io import StringIO\n",
        "from sklearn.feature_extraction.text import TfidfVectorizer\n",
        "from sklearn.feature_selection import chi2\n",
        "from IPython.display import display\n",
        "from sklearn.model_selection import train_test_split\n",
        "from sklearn.feature_extraction.text import TfidfTransformer\n",
        "from sklearn.naive_bayes import MultinomialNB\n",
        "from sklearn.linear_model import LogisticRegression\n",
        "from sklearn.ensemble import RandomForestClassifier\n",
        "from sklearn.svm import LinearSVC\n",
        "from sklearn.model_selection import cross_val_score\n",
        "from sklearn.metrics import confusion_matrix\n",
        "from sklearn import metrics"
      ]
    },
    {
      "cell_type": "code",
      "execution_count": null,
      "metadata": {
        "colab": {
          "base_uri": "https://localhost:8080/",
          "height": 641
        },
        "id": "xTj55JMBUqZ2",
        "outputId": "b04bbf7b-24fe-426e-b636-5ad7cf3530a2"
      },
      "outputs": [
        {
          "output_type": "execute_result",
          "data": {
            "text/plain": [
              "                       From  \\\n",
              "0            GALASSI Adrián   \n",
              "1     Tecpetrol - Contratos   \n",
              "2     Tecpetrol - Contratos   \n",
              "3     Tecpetrol - Contratos   \n",
              "4      PUB:lahera@gmail.com   \n",
              "...                     ...   \n",
              "3845         FERNANDEZ Odín   \n",
              "3846           JEREZ Karina   \n",
              "3847       CARPANO Patricia   \n",
              "3848       CARPANO Patricia   \n",
              "3849       CARPANO Patricia   \n",
              "\n",
              "                                                     To  \\\n",
              "0     MARKOUS Ricardo;MARIN Horacio;PERCZYK Jorge;FE...   \n",
              "1     FERNANDEZ LOBBE Gonzalo;DIVITO Juan Esteban;LA...   \n",
              "2     FERNANDEZ LOBBE Gonzalo;DIVITO Juan Esteban;LA...   \n",
              "3     FERNANDEZ LOBBE Gonzalo;DIVITO Juan Esteban;LA...   \n",
              "4                                   QUINTANA Jose Maria   \n",
              "...                                                 ...   \n",
              "3845  BLASCO Gustavo Angel;MARIN Horacio;PERCZYK Jor...   \n",
              "3846             SEÑORAN Federico;SANTIN Florencia Dana   \n",
              "3847                                QUINTANA Jose Maria   \n",
              "3848                                QUINTANA Jose Maria   \n",
              "3849                                QUINTANA Jose Maria   \n",
              "\n",
              "                                                Subject  \\\n",
              "0     Resolución de Ajuste de Pago R46 - Agosto de 2021   \n",
              "1     FW: NOTIFICACIÓN NO-2021-126743691-APN-SSH#MEC...   \n",
              "2     FW: NOTIFICACIÓN RESOL-2021-1289-APN-SE#MEC - ...   \n",
              "3     FW: NOTIFICACIÓN NO-2022-00524984-APN-SSH#MEC ...   \n",
              "4           RE: Borrador Plan Gas 4 - Nov/21 definitiva   \n",
              "...                                                 ...   \n",
              "3845                 Resumen Operativo Diario Aguaragüe   \n",
              "3846                    RE: Cierre stock crudo julio/22   \n",
              "3847                             RE: SESCO - Julio 2022   \n",
              "3848                             RE: SESCO - Julio 2022   \n",
              "3849                             RE: SESCO - Julio 2022   \n",
              "\n",
              "                                                   Body Folder  \\\n",
              "0     Estimados:\\r\\n\\r\\n \\r\\n\\r\\nEn el día de hoy he...  NOTAS   \n",
              "1      \\r\\n \\r\\nFrom: PUB:Blas David De Salvo <bdesa...  NOTAS   \n",
              "2      \\r\\n \\r\\nFrom: PUB:Augusto Cesar Fleitas <afl...  NOTAS   \n",
              "3      \\r\\n \\r\\nFrom: PUB:Blas David De Salvo <bdesa...  NOTAS   \n",
              "4     Attention: This email was sent from someone ou...  NOTAS   \n",
              "...                                                 ...    ...   \n",
              "3845  \\r\\n\\r\\n \\r\\n\\r\\nSaludos.\\r\\n\\r\\nOdin Fernánde...  AREAS   \n",
              "3846  Se adjunta el definitivo de FP, con el agregad...  AREAS   \n",
              "3847  De nada y es no convencional.\\r\\n\\r\\n \\r\\n\\r\\n...  AREAS   \n",
              "3848  Hola José buen día, en julio tenemos producció...  AREAS   \n",
              "3849  De nada!\\r\\n\\r\\n \\r\\n\\r\\nFrom: QUINTANA Jose M...  AREAS   \n",
              "\n",
              "                                                   Mail  \n",
              "0     Resolución de Ajuste de Pago R46 - Agosto de 2...  \n",
              "1     FW: NOTIFICACIÓN NO-2021-126743691-APN-SSH#MEC...  \n",
              "2     FW: NOTIFICACIÓN RESOL-2021-1289-APN-SE#MEC - ...  \n",
              "3     FW: NOTIFICACIÓN NO-2022-00524984-APN-SSH#MEC ...  \n",
              "4     RE: Borrador Plan Gas 4 - Nov/21 definitiva At...  \n",
              "...                                                 ...  \n",
              "3845  Resumen Operativo Diario Aguaragüe \\r\\n\\r\\n \\r...  \n",
              "3846  RE: Cierre stock crudo julio/22 Se adjunta el ...  \n",
              "3847  RE: SESCO - Julio 2022 De nada y es no convenc...  \n",
              "3848  RE: SESCO - Julio 2022 Hola José buen día, en ...  \n",
              "3849  RE: SESCO - Julio 2022 De nada!\\r\\n\\r\\n \\r\\n\\r...  \n",
              "\n",
              "[3699 rows x 6 columns]"
            ],
            "text/html": [
              "\n",
              "  <div id=\"df-8c30223d-95d9-448f-8ecf-32d913037497\">\n",
              "    <div class=\"colab-df-container\">\n",
              "      <div>\n",
              "<style scoped>\n",
              "    .dataframe tbody tr th:only-of-type {\n",
              "        vertical-align: middle;\n",
              "    }\n",
              "\n",
              "    .dataframe tbody tr th {\n",
              "        vertical-align: top;\n",
              "    }\n",
              "\n",
              "    .dataframe thead th {\n",
              "        text-align: right;\n",
              "    }\n",
              "</style>\n",
              "<table border=\"1\" class=\"dataframe\">\n",
              "  <thead>\n",
              "    <tr style=\"text-align: right;\">\n",
              "      <th></th>\n",
              "      <th>From</th>\n",
              "      <th>To</th>\n",
              "      <th>Subject</th>\n",
              "      <th>Body</th>\n",
              "      <th>Folder</th>\n",
              "      <th>Mail</th>\n",
              "    </tr>\n",
              "  </thead>\n",
              "  <tbody>\n",
              "    <tr>\n",
              "      <th>0</th>\n",
              "      <td>GALASSI Adrián</td>\n",
              "      <td>MARKOUS Ricardo;MARIN Horacio;PERCZYK Jorge;FE...</td>\n",
              "      <td>Resolución de Ajuste de Pago R46 - Agosto de 2021</td>\n",
              "      <td>Estimados:\\r\\n\\r\\n \\r\\n\\r\\nEn el día de hoy he...</td>\n",
              "      <td>NOTAS</td>\n",
              "      <td>Resolución de Ajuste de Pago R46 - Agosto de 2...</td>\n",
              "    </tr>\n",
              "    <tr>\n",
              "      <th>1</th>\n",
              "      <td>Tecpetrol - Contratos</td>\n",
              "      <td>FERNANDEZ LOBBE Gonzalo;DIVITO Juan Esteban;LA...</td>\n",
              "      <td>FW: NOTIFICACIÓN NO-2021-126743691-APN-SSH#MEC...</td>\n",
              "      <td>\\r\\n \\r\\nFrom: PUB:Blas David De Salvo &lt;bdesa...</td>\n",
              "      <td>NOTAS</td>\n",
              "      <td>FW: NOTIFICACIÓN NO-2021-126743691-APN-SSH#MEC...</td>\n",
              "    </tr>\n",
              "    <tr>\n",
              "      <th>2</th>\n",
              "      <td>Tecpetrol - Contratos</td>\n",
              "      <td>FERNANDEZ LOBBE Gonzalo;DIVITO Juan Esteban;LA...</td>\n",
              "      <td>FW: NOTIFICACIÓN RESOL-2021-1289-APN-SE#MEC - ...</td>\n",
              "      <td>\\r\\n \\r\\nFrom: PUB:Augusto Cesar Fleitas &lt;afl...</td>\n",
              "      <td>NOTAS</td>\n",
              "      <td>FW: NOTIFICACIÓN RESOL-2021-1289-APN-SE#MEC - ...</td>\n",
              "    </tr>\n",
              "    <tr>\n",
              "      <th>3</th>\n",
              "      <td>Tecpetrol - Contratos</td>\n",
              "      <td>FERNANDEZ LOBBE Gonzalo;DIVITO Juan Esteban;LA...</td>\n",
              "      <td>FW: NOTIFICACIÓN NO-2022-00524984-APN-SSH#MEC ...</td>\n",
              "      <td>\\r\\n \\r\\nFrom: PUB:Blas David De Salvo &lt;bdesa...</td>\n",
              "      <td>NOTAS</td>\n",
              "      <td>FW: NOTIFICACIÓN NO-2022-00524984-APN-SSH#MEC ...</td>\n",
              "    </tr>\n",
              "    <tr>\n",
              "      <th>4</th>\n",
              "      <td>PUB:lahera@gmail.com</td>\n",
              "      <td>QUINTANA Jose Maria</td>\n",
              "      <td>RE: Borrador Plan Gas 4 - Nov/21 definitiva</td>\n",
              "      <td>Attention: This email was sent from someone ou...</td>\n",
              "      <td>NOTAS</td>\n",
              "      <td>RE: Borrador Plan Gas 4 - Nov/21 definitiva At...</td>\n",
              "    </tr>\n",
              "    <tr>\n",
              "      <th>...</th>\n",
              "      <td>...</td>\n",
              "      <td>...</td>\n",
              "      <td>...</td>\n",
              "      <td>...</td>\n",
              "      <td>...</td>\n",
              "      <td>...</td>\n",
              "    </tr>\n",
              "    <tr>\n",
              "      <th>3845</th>\n",
              "      <td>FERNANDEZ Odín</td>\n",
              "      <td>BLASCO Gustavo Angel;MARIN Horacio;PERCZYK Jor...</td>\n",
              "      <td>Resumen Operativo Diario Aguaragüe</td>\n",
              "      <td>\\r\\n\\r\\n \\r\\n\\r\\nSaludos.\\r\\n\\r\\nOdin Fernánde...</td>\n",
              "      <td>AREAS</td>\n",
              "      <td>Resumen Operativo Diario Aguaragüe \\r\\n\\r\\n \\r...</td>\n",
              "    </tr>\n",
              "    <tr>\n",
              "      <th>3846</th>\n",
              "      <td>JEREZ Karina</td>\n",
              "      <td>SEÑORAN Federico;SANTIN Florencia Dana</td>\n",
              "      <td>RE: Cierre stock crudo julio/22</td>\n",
              "      <td>Se adjunta el definitivo de FP, con el agregad...</td>\n",
              "      <td>AREAS</td>\n",
              "      <td>RE: Cierre stock crudo julio/22 Se adjunta el ...</td>\n",
              "    </tr>\n",
              "    <tr>\n",
              "      <th>3847</th>\n",
              "      <td>CARPANO Patricia</td>\n",
              "      <td>QUINTANA Jose Maria</td>\n",
              "      <td>RE: SESCO - Julio 2022</td>\n",
              "      <td>De nada y es no convencional.\\r\\n\\r\\n \\r\\n\\r\\n...</td>\n",
              "      <td>AREAS</td>\n",
              "      <td>RE: SESCO - Julio 2022 De nada y es no convenc...</td>\n",
              "    </tr>\n",
              "    <tr>\n",
              "      <th>3848</th>\n",
              "      <td>CARPANO Patricia</td>\n",
              "      <td>QUINTANA Jose Maria</td>\n",
              "      <td>RE: SESCO - Julio 2022</td>\n",
              "      <td>Hola José buen día, en julio tenemos producció...</td>\n",
              "      <td>AREAS</td>\n",
              "      <td>RE: SESCO - Julio 2022 Hola José buen día, en ...</td>\n",
              "    </tr>\n",
              "    <tr>\n",
              "      <th>3849</th>\n",
              "      <td>CARPANO Patricia</td>\n",
              "      <td>QUINTANA Jose Maria</td>\n",
              "      <td>RE: SESCO - Julio 2022</td>\n",
              "      <td>De nada!\\r\\n\\r\\n \\r\\n\\r\\nFrom: QUINTANA Jose M...</td>\n",
              "      <td>AREAS</td>\n",
              "      <td>RE: SESCO - Julio 2022 De nada!\\r\\n\\r\\n \\r\\n\\r...</td>\n",
              "    </tr>\n",
              "  </tbody>\n",
              "</table>\n",
              "<p>3699 rows × 6 columns</p>\n",
              "</div>\n",
              "      <button class=\"colab-df-convert\" onclick=\"convertToInteractive('df-8c30223d-95d9-448f-8ecf-32d913037497')\"\n",
              "              title=\"Convert this dataframe to an interactive table.\"\n",
              "              style=\"display:none;\">\n",
              "        \n",
              "  <svg xmlns=\"http://www.w3.org/2000/svg\" height=\"24px\"viewBox=\"0 0 24 24\"\n",
              "       width=\"24px\">\n",
              "    <path d=\"M0 0h24v24H0V0z\" fill=\"none\"/>\n",
              "    <path d=\"M18.56 5.44l.94 2.06.94-2.06 2.06-.94-2.06-.94-.94-2.06-.94 2.06-2.06.94zm-11 1L8.5 8.5l.94-2.06 2.06-.94-2.06-.94L8.5 2.5l-.94 2.06-2.06.94zm10 10l.94 2.06.94-2.06 2.06-.94-2.06-.94-.94-2.06-.94 2.06-2.06.94z\"/><path d=\"M17.41 7.96l-1.37-1.37c-.4-.4-.92-.59-1.43-.59-.52 0-1.04.2-1.43.59L10.3 9.45l-7.72 7.72c-.78.78-.78 2.05 0 2.83L4 21.41c.39.39.9.59 1.41.59.51 0 1.02-.2 1.41-.59l7.78-7.78 2.81-2.81c.8-.78.8-2.07 0-2.86zM5.41 20L4 18.59l7.72-7.72 1.47 1.35L5.41 20z\"/>\n",
              "  </svg>\n",
              "      </button>\n",
              "      \n",
              "  <style>\n",
              "    .colab-df-container {\n",
              "      display:flex;\n",
              "      flex-wrap:wrap;\n",
              "      gap: 12px;\n",
              "    }\n",
              "\n",
              "    .colab-df-convert {\n",
              "      background-color: #E8F0FE;\n",
              "      border: none;\n",
              "      border-radius: 50%;\n",
              "      cursor: pointer;\n",
              "      display: none;\n",
              "      fill: #1967D2;\n",
              "      height: 32px;\n",
              "      padding: 0 0 0 0;\n",
              "      width: 32px;\n",
              "    }\n",
              "\n",
              "    .colab-df-convert:hover {\n",
              "      background-color: #E2EBFA;\n",
              "      box-shadow: 0px 1px 2px rgba(60, 64, 67, 0.3), 0px 1px 3px 1px rgba(60, 64, 67, 0.15);\n",
              "      fill: #174EA6;\n",
              "    }\n",
              "\n",
              "    [theme=dark] .colab-df-convert {\n",
              "      background-color: #3B4455;\n",
              "      fill: #D2E3FC;\n",
              "    }\n",
              "\n",
              "    [theme=dark] .colab-df-convert:hover {\n",
              "      background-color: #434B5C;\n",
              "      box-shadow: 0px 1px 3px 1px rgba(0, 0, 0, 0.15);\n",
              "      filter: drop-shadow(0px 1px 2px rgba(0, 0, 0, 0.3));\n",
              "      fill: #FFFFFF;\n",
              "    }\n",
              "  </style>\n",
              "\n",
              "      <script>\n",
              "        const buttonEl =\n",
              "          document.querySelector('#df-8c30223d-95d9-448f-8ecf-32d913037497 button.colab-df-convert');\n",
              "        buttonEl.style.display =\n",
              "          google.colab.kernel.accessAllowed ? 'block' : 'none';\n",
              "\n",
              "        async function convertToInteractive(key) {\n",
              "          const element = document.querySelector('#df-8c30223d-95d9-448f-8ecf-32d913037497');\n",
              "          const dataTable =\n",
              "            await google.colab.kernel.invokeFunction('convertToInteractive',\n",
              "                                                     [key], {});\n",
              "          if (!dataTable) return;\n",
              "\n",
              "          const docLinkHtml = 'Like what you see? Visit the ' +\n",
              "            '<a target=\"_blank\" href=https://colab.research.google.com/notebooks/data_table.ipynb>data table notebook</a>'\n",
              "            + ' to learn more about interactive tables.';\n",
              "          element.innerHTML = '';\n",
              "          dataTable['output_type'] = 'display_data';\n",
              "          await google.colab.output.renderOutput(dataTable, element);\n",
              "          const docLink = document.createElement('div');\n",
              "          docLink.innerHTML = docLinkHtml;\n",
              "          element.appendChild(docLink);\n",
              "        }\n",
              "      </script>\n",
              "    </div>\n",
              "  </div>\n",
              "  "
            ]
          },
          "metadata": {},
          "execution_count": 134
        }
      ],
      "source": [
        "data"
      ]
    },
    {
      "cell_type": "code",
      "execution_count": null,
      "metadata": {
        "id": "6wGN-UxsUI-1"
      },
      "outputs": [],
      "source": [
        "tfidf = TfidfVectorizer(sublinear_tf=True, min_df=5,\n",
        "                        ngram_range=(1, 2), \n",
        "                        stop_words='english')\n",
        "\n",
        "# We transform each complaint into a vector\n",
        "features = tfidf.fit_transform(data.Body).toarray()\n",
        "\n",
        "labels = data.Folder"
      ]
    },
    {
      "cell_type": "code",
      "execution_count": null,
      "metadata": {
        "id": "y8o6mwCyWHGZ"
      },
      "outputs": [],
      "source": [
        "X_train, X_test, y_train, y_test,indices_train,indices_test = train_test_split(features, \n",
        "                                                               labels, \n",
        "                                                               data.index, test_size=0.25)\n",
        "model = LinearSVC()\n",
        "model.fit(X_train, y_train)\n",
        "y_pred = model.predict(X_test)"
      ]
    },
    {
      "cell_type": "code",
      "execution_count": null,
      "metadata": {
        "id": "lr_ZH5eQWwZu",
        "colab": {
          "base_uri": "https://localhost:8080/",
          "height": 441
        },
        "outputId": "dee4839b-533c-4fd7-b9a8-f09ed1a15998"
      },
      "outputs": [
        {
          "output_type": "stream",
          "name": "stderr",
          "text": [
            "/usr/local/lib/python3.7/dist-packages/ipykernel_launcher.py:2: SettingWithCopyWarning: \n",
            "A value is trying to be set on a copy of a slice from a DataFrame.\n",
            "Try using .loc[row_indexer,col_indexer] = value instead\n",
            "\n",
            "See the caveats in the documentation: https://pandas.pydata.org/pandas-docs/stable/user_guide/indexing.html#returning-a-view-versus-a-copy\n",
            "  \n"
          ]
        },
        {
          "output_type": "execute_result",
          "data": {
            "text/plain": [
              "                    From                                                 To  \\\n",
              "0         GALASSI Adrián  MARKOUS Ricardo;MARIN Horacio;PERCZYK Jorge;FE...   \n",
              "1  Tecpetrol - Contratos  FERNANDEZ LOBBE Gonzalo;DIVITO Juan Esteban;LA...   \n",
              "2  Tecpetrol - Contratos  FERNANDEZ LOBBE Gonzalo;DIVITO Juan Esteban;LA...   \n",
              "3  Tecpetrol - Contratos  FERNANDEZ LOBBE Gonzalo;DIVITO Juan Esteban;LA...   \n",
              "4   PUB:lahera@gmail.com                                QUINTANA Jose Maria   \n",
              "\n",
              "                                             Subject  \\\n",
              "0  Resolución de Ajuste de Pago R46 - Agosto de 2021   \n",
              "1  FW: NOTIFICACIÓN NO-2021-126743691-APN-SSH#MEC...   \n",
              "2  FW: NOTIFICACIÓN RESOL-2021-1289-APN-SE#MEC - ...   \n",
              "3  FW: NOTIFICACIÓN NO-2022-00524984-APN-SSH#MEC ...   \n",
              "4        RE: Borrador Plan Gas 4 - Nov/21 definitiva   \n",
              "\n",
              "                                                Body Folder  \\\n",
              "0  Estimados:\\r\\n\\r\\n \\r\\n\\r\\nEn el día de hoy he...  NOTAS   \n",
              "1   \\r\\n \\r\\nFrom: PUB:Blas David De Salvo <bdesa...  NOTAS   \n",
              "2   \\r\\n \\r\\nFrom: PUB:Augusto Cesar Fleitas <afl...  NOTAS   \n",
              "3   \\r\\n \\r\\nFrom: PUB:Blas David De Salvo <bdesa...  NOTAS   \n",
              "4  Attention: This email was sent from someone ou...  NOTAS   \n",
              "\n",
              "                                                Mail  category_id  \n",
              "0  Resolución de Ajuste de Pago R46 - Agosto de 2...            0  \n",
              "1  FW: NOTIFICACIÓN NO-2021-126743691-APN-SSH#MEC...            0  \n",
              "2  FW: NOTIFICACIÓN RESOL-2021-1289-APN-SE#MEC - ...            0  \n",
              "3  FW: NOTIFICACIÓN NO-2022-00524984-APN-SSH#MEC ...            0  \n",
              "4  RE: Borrador Plan Gas 4 - Nov/21 definitiva At...            0  "
            ],
            "text/html": [
              "\n",
              "  <div id=\"df-de87c42c-59a9-4c0a-b38a-59a1c1c95c15\">\n",
              "    <div class=\"colab-df-container\">\n",
              "      <div>\n",
              "<style scoped>\n",
              "    .dataframe tbody tr th:only-of-type {\n",
              "        vertical-align: middle;\n",
              "    }\n",
              "\n",
              "    .dataframe tbody tr th {\n",
              "        vertical-align: top;\n",
              "    }\n",
              "\n",
              "    .dataframe thead th {\n",
              "        text-align: right;\n",
              "    }\n",
              "</style>\n",
              "<table border=\"1\" class=\"dataframe\">\n",
              "  <thead>\n",
              "    <tr style=\"text-align: right;\">\n",
              "      <th></th>\n",
              "      <th>From</th>\n",
              "      <th>To</th>\n",
              "      <th>Subject</th>\n",
              "      <th>Body</th>\n",
              "      <th>Folder</th>\n",
              "      <th>Mail</th>\n",
              "      <th>category_id</th>\n",
              "    </tr>\n",
              "  </thead>\n",
              "  <tbody>\n",
              "    <tr>\n",
              "      <th>0</th>\n",
              "      <td>GALASSI Adrián</td>\n",
              "      <td>MARKOUS Ricardo;MARIN Horacio;PERCZYK Jorge;FE...</td>\n",
              "      <td>Resolución de Ajuste de Pago R46 - Agosto de 2021</td>\n",
              "      <td>Estimados:\\r\\n\\r\\n \\r\\n\\r\\nEn el día de hoy he...</td>\n",
              "      <td>NOTAS</td>\n",
              "      <td>Resolución de Ajuste de Pago R46 - Agosto de 2...</td>\n",
              "      <td>0</td>\n",
              "    </tr>\n",
              "    <tr>\n",
              "      <th>1</th>\n",
              "      <td>Tecpetrol - Contratos</td>\n",
              "      <td>FERNANDEZ LOBBE Gonzalo;DIVITO Juan Esteban;LA...</td>\n",
              "      <td>FW: NOTIFICACIÓN NO-2021-126743691-APN-SSH#MEC...</td>\n",
              "      <td>\\r\\n \\r\\nFrom: PUB:Blas David De Salvo &lt;bdesa...</td>\n",
              "      <td>NOTAS</td>\n",
              "      <td>FW: NOTIFICACIÓN NO-2021-126743691-APN-SSH#MEC...</td>\n",
              "      <td>0</td>\n",
              "    </tr>\n",
              "    <tr>\n",
              "      <th>2</th>\n",
              "      <td>Tecpetrol - Contratos</td>\n",
              "      <td>FERNANDEZ LOBBE Gonzalo;DIVITO Juan Esteban;LA...</td>\n",
              "      <td>FW: NOTIFICACIÓN RESOL-2021-1289-APN-SE#MEC - ...</td>\n",
              "      <td>\\r\\n \\r\\nFrom: PUB:Augusto Cesar Fleitas &lt;afl...</td>\n",
              "      <td>NOTAS</td>\n",
              "      <td>FW: NOTIFICACIÓN RESOL-2021-1289-APN-SE#MEC - ...</td>\n",
              "      <td>0</td>\n",
              "    </tr>\n",
              "    <tr>\n",
              "      <th>3</th>\n",
              "      <td>Tecpetrol - Contratos</td>\n",
              "      <td>FERNANDEZ LOBBE Gonzalo;DIVITO Juan Esteban;LA...</td>\n",
              "      <td>FW: NOTIFICACIÓN NO-2022-00524984-APN-SSH#MEC ...</td>\n",
              "      <td>\\r\\n \\r\\nFrom: PUB:Blas David De Salvo &lt;bdesa...</td>\n",
              "      <td>NOTAS</td>\n",
              "      <td>FW: NOTIFICACIÓN NO-2022-00524984-APN-SSH#MEC ...</td>\n",
              "      <td>0</td>\n",
              "    </tr>\n",
              "    <tr>\n",
              "      <th>4</th>\n",
              "      <td>PUB:lahera@gmail.com</td>\n",
              "      <td>QUINTANA Jose Maria</td>\n",
              "      <td>RE: Borrador Plan Gas 4 - Nov/21 definitiva</td>\n",
              "      <td>Attention: This email was sent from someone ou...</td>\n",
              "      <td>NOTAS</td>\n",
              "      <td>RE: Borrador Plan Gas 4 - Nov/21 definitiva At...</td>\n",
              "      <td>0</td>\n",
              "    </tr>\n",
              "  </tbody>\n",
              "</table>\n",
              "</div>\n",
              "      <button class=\"colab-df-convert\" onclick=\"convertToInteractive('df-de87c42c-59a9-4c0a-b38a-59a1c1c95c15')\"\n",
              "              title=\"Convert this dataframe to an interactive table.\"\n",
              "              style=\"display:none;\">\n",
              "        \n",
              "  <svg xmlns=\"http://www.w3.org/2000/svg\" height=\"24px\"viewBox=\"0 0 24 24\"\n",
              "       width=\"24px\">\n",
              "    <path d=\"M0 0h24v24H0V0z\" fill=\"none\"/>\n",
              "    <path d=\"M18.56 5.44l.94 2.06.94-2.06 2.06-.94-2.06-.94-.94-2.06-.94 2.06-2.06.94zm-11 1L8.5 8.5l.94-2.06 2.06-.94-2.06-.94L8.5 2.5l-.94 2.06-2.06.94zm10 10l.94 2.06.94-2.06 2.06-.94-2.06-.94-.94-2.06-.94 2.06-2.06.94z\"/><path d=\"M17.41 7.96l-1.37-1.37c-.4-.4-.92-.59-1.43-.59-.52 0-1.04.2-1.43.59L10.3 9.45l-7.72 7.72c-.78.78-.78 2.05 0 2.83L4 21.41c.39.39.9.59 1.41.59.51 0 1.02-.2 1.41-.59l7.78-7.78 2.81-2.81c.8-.78.8-2.07 0-2.86zM5.41 20L4 18.59l7.72-7.72 1.47 1.35L5.41 20z\"/>\n",
              "  </svg>\n",
              "      </button>\n",
              "      \n",
              "  <style>\n",
              "    .colab-df-container {\n",
              "      display:flex;\n",
              "      flex-wrap:wrap;\n",
              "      gap: 12px;\n",
              "    }\n",
              "\n",
              "    .colab-df-convert {\n",
              "      background-color: #E8F0FE;\n",
              "      border: none;\n",
              "      border-radius: 50%;\n",
              "      cursor: pointer;\n",
              "      display: none;\n",
              "      fill: #1967D2;\n",
              "      height: 32px;\n",
              "      padding: 0 0 0 0;\n",
              "      width: 32px;\n",
              "    }\n",
              "\n",
              "    .colab-df-convert:hover {\n",
              "      background-color: #E2EBFA;\n",
              "      box-shadow: 0px 1px 2px rgba(60, 64, 67, 0.3), 0px 1px 3px 1px rgba(60, 64, 67, 0.15);\n",
              "      fill: #174EA6;\n",
              "    }\n",
              "\n",
              "    [theme=dark] .colab-df-convert {\n",
              "      background-color: #3B4455;\n",
              "      fill: #D2E3FC;\n",
              "    }\n",
              "\n",
              "    [theme=dark] .colab-df-convert:hover {\n",
              "      background-color: #434B5C;\n",
              "      box-shadow: 0px 1px 3px 1px rgba(0, 0, 0, 0.15);\n",
              "      filter: drop-shadow(0px 1px 2px rgba(0, 0, 0, 0.3));\n",
              "      fill: #FFFFFF;\n",
              "    }\n",
              "  </style>\n",
              "\n",
              "      <script>\n",
              "        const buttonEl =\n",
              "          document.querySelector('#df-de87c42c-59a9-4c0a-b38a-59a1c1c95c15 button.colab-df-convert');\n",
              "        buttonEl.style.display =\n",
              "          google.colab.kernel.accessAllowed ? 'block' : 'none';\n",
              "\n",
              "        async function convertToInteractive(key) {\n",
              "          const element = document.querySelector('#df-de87c42c-59a9-4c0a-b38a-59a1c1c95c15');\n",
              "          const dataTable =\n",
              "            await google.colab.kernel.invokeFunction('convertToInteractive',\n",
              "                                                     [key], {});\n",
              "          if (!dataTable) return;\n",
              "\n",
              "          const docLinkHtml = 'Like what you see? Visit the ' +\n",
              "            '<a target=\"_blank\" href=https://colab.research.google.com/notebooks/data_table.ipynb>data table notebook</a>'\n",
              "            + ' to learn more about interactive tables.';\n",
              "          element.innerHTML = '';\n",
              "          dataTable['output_type'] = 'display_data';\n",
              "          await google.colab.output.renderOutput(dataTable, element);\n",
              "          const docLink = document.createElement('div');\n",
              "          docLink.innerHTML = docLinkHtml;\n",
              "          element.appendChild(docLink);\n",
              "        }\n",
              "      </script>\n",
              "    </div>\n",
              "  </div>\n",
              "  "
            ]
          },
          "metadata": {},
          "execution_count": 174
        }
      ],
      "source": [
        "# Create a new column 'category_id' with encoded categories \n",
        "data['category_id'] = data['Folder'].factorize()[0]\n",
        "category_id_df = data[['Folder', 'category_id']].drop_duplicates()\n",
        "\n",
        "# Dictionaries for future use\n",
        "category_to_id = dict(category_id_df.values)\n",
        "id_to_category = dict(category_id_df[['category_id', 'Folder']].values)\n",
        "\n",
        "# New dataframe\n",
        "data.head()"
      ]
    },
    {
      "cell_type": "code",
      "source": [
        "labels = y_test.value_counts()\n",
        "labels"
      ],
      "metadata": {
        "colab": {
          "base_uri": "https://localhost:8080/"
        },
        "id": "tbOf259SZsOQ",
        "outputId": "7e9819af-40b2-4320-c029-b60e493ea774"
      },
      "execution_count": null,
      "outputs": [
        {
          "output_type": "execute_result",
          "data": {
            "text/plain": [
              "SERVICIOS      171\n",
              "OTROS          124\n",
              "VENTAS         121\n",
              "FACTURACION    104\n",
              "SISTEMAS        82\n",
              "EXPORTACION     71\n",
              "PROVEEDORES     66\n",
              "AREAS           49\n",
              "SOCIOS          30\n",
              "INFORMES        28\n",
              "FINANZAS        21\n",
              "PROVISIONES     13\n",
              "NOTAS           11\n",
              "CREDITO         10\n",
              "CLIENTES         7\n",
              "ENTES            7\n",
              "IMPUESTOS        6\n",
              "AUDITORIA        2\n",
              "BUDGET           2\n",
              "Name: Folder, dtype: int64"
            ]
          },
          "metadata": {},
          "execution_count": 175
        }
      ]
    },
    {
      "cell_type": "code",
      "execution_count": null,
      "metadata": {
        "id": "m-Ue-HvnWThF",
        "colab": {
          "base_uri": "https://localhost:8080/",
          "height": 721
        },
        "outputId": "2920d05d-4da3-4db1-da68-53b1f3cdee67"
      },
      "outputs": [
        {
          "output_type": "display_data",
          "data": {
            "text/plain": [
              "<Figure size 864x864 with 2 Axes>"
            ],
            "image/png": "[encoded data removed]"
          },
          "metadata": {
            "needs_background": "light"
          }
        }
      ],
      "source": [
        "labels = y_test.value_counts()[y_test.value_counts()>=10].index\n",
        "conf_mat = confusion_matrix(y_test, y_pred,labels=labels, normalize='true')\n",
        "fig, ax = plt.subplots(figsize=(12,12))\n",
        "sns.heatmap(conf_mat.T, annot=True, cmap=\"Blues\", fmt='.2f',\n",
        "            xticklabels=labels, \n",
        "            yticklabels=labels,\n",
        "            square=True)\n",
        "plt.xlabel('Real')\n",
        "plt.ylabel('Predicted')\n",
        "\n",
        "plt.title(\"CONFUSION MATRIX - LinearSVC\\n\", size=16);"
      ]
    },
    {
      "cell_type": "code",
      "execution_count": null,
      "metadata": {
        "id": "N2dc9MFaPytO",
        "colab": {
          "base_uri": "https://localhost:8080/"
        },
        "outputId": "da1d1516-aba4-4cad-d641-e20c46f5355d"
      },
      "outputs": [
        {
          "output_type": "stream",
          "name": "stdout",
          "text": [
            "\t\t\t\tCLASSIFICATIION METRICS\n",
            "\n",
            "              precision    recall  f1-score   support\n",
            "\n",
            "   SERVICIOS       0.92      0.94      0.93       171\n",
            "       OTROS       0.89      0.94      0.91       124\n",
            "      VENTAS       0.95      0.95      0.95       121\n",
            " FACTURACION       0.83      0.79      0.81       104\n",
            "    SISTEMAS       0.93      0.95      0.94        82\n",
            " EXPORTACION       0.89      0.94      0.92        71\n",
            " PROVEEDORES       0.79      0.85      0.82        66\n",
            "       AREAS       0.89      0.86      0.88        49\n",
            "      SOCIOS       0.93      0.87      0.90        30\n",
            "    INFORMES       0.89      0.86      0.87        28\n",
            "    FINANZAS       0.68      0.71      0.70        21\n",
            " PROVISIONES       0.85      0.85      0.85        13\n",
            "       NOTAS       0.73      0.73      0.73        11\n",
            "\n",
            "   micro avg       0.89      0.90      0.89       891\n",
            "   macro avg       0.86      0.86      0.86       891\n",
            "weighted avg       0.89      0.90      0.89       891\n",
            "\n"
          ]
        }
      ],
      "source": [
        "# Classification report\n",
        "print('\\t\\t\\t\\tCLASSIFICATIION METRICS\\n')\n",
        "print(metrics.classification_report(y_test, y_pred, labels=labels))"
      ]
    }
  ],
  "metadata": {
    "colab": {
      "collapsed_sections": [],
      "name": "PST v2.ipynb",
      "provenance": [],
      "authorship_tag": "ABX9TyOSi177GZ9BG2lI0rvNbSts",
      "include_colab_link": true
    },
    "kernelspec": {
      "display_name": "Python 3",
      "name": "python3"
    },
    "language_info": {
      "name": "python"
    }
  },
  "nbformat": 4,
  "nbformat_minor": 0
}